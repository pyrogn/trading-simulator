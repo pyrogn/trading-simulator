{
 "cells": [
  {
   "cell_type": "code",
   "execution_count": 1,
   "metadata": {},
   "outputs": [],
   "source": [
    "import numpy as np"
   ]
  },
  {
   "cell_type": "code",
   "execution_count": 4,
   "metadata": {},
   "outputs": [
    {
     "data": {
      "text/plain": [
       "array([-5.03398247e+01,  8.55129875e+01,  2.30561552e+01, -1.33871337e+02,\n",
       "        8.39313811e+01,  1.20663808e+01,  1.58541841e+02, -7.38500675e+00,\n",
       "       -1.19198367e+01, -3.67177291e+02,  1.53694744e+02, -7.96929816e+01,\n",
       "       -3.95914340e+01, -1.07423075e+02, -1.52820919e-01, -1.33206731e+02,\n",
       "       -1.82547049e+01,  8.78729169e+00,  2.61217013e+01,  8.61925332e+01,\n",
       "       -8.13753167e+01, -9.52187821e+01,  5.95556218e+01, -5.32578211e+01,\n",
       "       -1.89168259e+01,  6.19903419e+01,  1.25810342e+01,  6.80226381e+01,\n",
       "        7.38169564e+00,  9.06406598e+01,  5.58273573e+00,  4.82943064e+01,\n",
       "       -6.27629304e+01, -2.96774217e+01, -1.08263921e+02, -2.08273256e+02,\n",
       "       -1.40523976e+01,  1.83680532e+00, -2.07667912e+02, -5.26922662e+01,\n",
       "       -9.81683005e+01, -3.40850913e+01,  1.59996317e+02,  1.18475806e+02,\n",
       "       -7.93722096e+01, -7.50020807e+01,  3.77272612e+01,  3.30820609e+01,\n",
       "       -5.29382657e+01, -9.12944177e+01, -8.87021213e+01,  1.77851118e+02,\n",
       "       -3.96541345e+01, -1.27033487e+02, -6.61089799e+01, -2.23789068e+02,\n",
       "       -1.62026261e+02,  1.00817441e+01,  7.77098227e+01, -2.45602668e+01,\n",
       "       -6.47083893e+01,  1.24818929e+02, -6.60656433e+01,  5.75409094e+01,\n",
       "       -2.12938745e+00,  1.21860025e+02, -1.36607359e+02, -6.10069684e+00,\n",
       "        1.37849511e+02, -1.73288586e+01, -3.97270681e+01,  6.99920059e+01,\n",
       "       -1.94869875e+02, -5.26272385e+01, -1.09840240e+02, -3.89137540e+01,\n",
       "        9.86914047e+01,  3.99326555e+01, -7.37856280e+01,  1.51945377e+02,\n",
       "        1.55815479e+01,  4.57531329e+01,  1.18042739e+02, -6.32155011e+01,\n",
       "        1.44400330e+02, -2.05042684e+01, -3.64669944e+01, -1.48440543e+01,\n",
       "        1.49186788e+01, -1.37805462e+02,  6.75690954e+00, -1.48453324e+02,\n",
       "        9.76301407e+00, -5.30345179e+01,  4.74042589e+01,  1.87037724e+02,\n",
       "        3.25435527e+01,  2.14428401e+02,  8.78336412e+01,  2.35760246e+01])"
      ]
     },
     "execution_count": 4,
     "metadata": {},
     "output_type": "execute_result"
    }
   ],
   "source": [
    "np.random.default_rng().normal(0, 100, 100)"
   ]
  },
  {
   "cell_type": "code",
   "execution_count": 6,
   "metadata": {},
   "outputs": [],
   "source": [
    "g1 = (i for i in range(10))\n",
    "g2 = (i for i in range(1,11))"
   ]
  },
  {
   "cell_type": "code",
   "execution_count": 4,
   "metadata": {},
   "outputs": [],
   "source": [
    "class Gen:\n",
    "    def __init__(self, n, offset):\n",
    "        self.n = n\n",
    "        self.offset = offset\n",
    "    def __iter__(self):\n",
    "        for i in range(self.offset, self.n+self.offset):\n",
    "            yield i"
   ]
  },
  {
   "cell_type": "code",
   "execution_count": 5,
   "metadata": {},
   "outputs": [],
   "source": [
    "g1, g2 = Gen(5, 0), Gen(5, 1)"
   ]
  },
  {
   "cell_type": "code",
   "execution_count": 6,
   "metadata": {},
   "outputs": [
    {
     "name": "stdout",
     "output_type": "stream",
     "text": [
      "(0, 1)\n",
      "(1, 2)\n",
      "(2, 3)\n",
      "(3, 4)\n",
      "(4, 5)\n"
     ]
    }
   ],
   "source": [
    "for i in zip(g1, g2):\n",
    "    print(i)"
   ]
  },
  {
   "cell_type": "code",
   "execution_count": 3,
   "metadata": {},
   "outputs": [
    {
     "name": "stdout",
     "output_type": "stream",
     "text": [
      "0\n",
      "1\n",
      "2\n",
      "3\n",
      "4\n"
     ]
    }
   ],
   "source": [
    "for i in Gen(5):\n",
    "    print(i)"
   ]
  },
  {
   "cell_type": "code",
   "execution_count": 7,
   "metadata": {},
   "outputs": [
    {
     "name": "stdout",
     "output_type": "stream",
     "text": [
      "(0, 1)\n",
      "(1, 2)\n",
      "(2, 3)\n",
      "(3, 4)\n",
      "(4, 5)\n",
      "(5, 6)\n",
      "(6, 7)\n",
      "(7, 8)\n",
      "(8, 9)\n",
      "(9, 10)\n"
     ]
    }
   ],
   "source": [
    "for i in zip(g1, g2):\n",
    "    print(i)"
   ]
  },
  {
   "cell_type": "code",
   "execution_count": 12,
   "metadata": {},
   "outputs": [],
   "source": [
    "def gen2(*gens):\n",
    "    for g in zip(gens):\n",
    "        yield [i for i in g]"
   ]
  },
  {
   "cell_type": "code",
   "execution_count": 13,
   "metadata": {},
   "outputs": [
    {
     "name": "stdout",
     "output_type": "stream",
     "text": [
      "[<generator object <genexpr> at 0x10679db10>]\n",
      "[<generator object <genexpr> at 0x10679e9b0>]\n"
     ]
    }
   ],
   "source": [
    "gg = gen2(g1, g2)\n",
    "for i in gg:\n",
    "    print(i)"
   ]
  },
  {
   "cell_type": "code",
   "execution_count": 211,
   "metadata": {},
   "outputs": [
    {
     "name": "stdout",
     "output_type": "stream",
     "text": [
      "(698.662424167999, '07/08/2023, 15:45:22')\n",
      "(705.4549650254094, '07/08/2023, 15:45:23')\n",
      "(598.415449004655, '07/08/2023, 15:45:24')\n",
      "(597.1453144802653, '07/08/2023, 15:45:25')\n",
      "(717.1279537958568, '07/08/2023, 15:45:26')\n"
     ]
    }
   ],
   "source": [
    "import numpy as np\n",
    "from datetime import datetime\n",
    "from abc import ABC, abstractmethod\n",
    "\n",
    "# from typing import Iterable, Iterator\n",
    "from collections.abc import Iterator, Iterable\n",
    "\n",
    "\n",
    "class SharePrices(Iterable):\n",
    "    def __init__(self, n):\n",
    "        pass\n",
    "\n",
    "    # @abstractmethod\n",
    "    # def get_share_prices():\n",
    "    #     raise NotImplementedError\n",
    "\n",
    "\n",
    "class SynthSharePrices(SharePrices):\n",
    "    def __init__(self, n):\n",
    "        self.n = n\n",
    "        self.init_value = np.random.randint(1, 1000)\n",
    "        self.new_vals = np.random.default_rng().normal(0, 100, self.n)\n",
    "\n",
    "    def __iter__(self) -> tuple[float, str]:\n",
    "        for new_val in self.new_vals:\n",
    "            self.init_value += new_val\n",
    "            yield self.init_value, datetime.now().strftime(\"%d/%m/%Y, %H:%M:%S\")\n",
    "\n",
    "g1 = SynthSharePrices(5)\n",
    "for i in g1:\n",
    "    print(i)\n"
   ]
  },
  {
   "cell_type": "code",
   "execution_count": 145,
   "metadata": {},
   "outputs": [],
   "source": [
    "g1 = SynthSharePrices(10)"
   ]
  },
  {
   "cell_type": "code",
   "execution_count": 146,
   "metadata": {},
   "outputs": [
    {
     "data": {
      "text/plain": [
       "<__main__.SynthSharePrices at 0x10f08c690>"
      ]
     },
     "execution_count": 146,
     "metadata": {},
     "output_type": "execute_result"
    }
   ],
   "source": [
    "g1"
   ]
  },
  {
   "cell_type": "code",
   "execution_count": 133,
   "metadata": {},
   "outputs": [],
   "source": [
    "g1_iter = iter(g1)"
   ]
  },
  {
   "cell_type": "code",
   "execution_count": 134,
   "metadata": {},
   "outputs": [
    {
     "data": {
      "text/plain": [
       "<generator object SynthSharePrices.__next__ at 0x10f108ac0>"
      ]
     },
     "execution_count": 134,
     "metadata": {},
     "output_type": "execute_result"
    }
   ],
   "source": [
    "next(g1_iter)"
   ]
  },
  {
   "cell_type": "code",
   "execution_count": 123,
   "metadata": {},
   "outputs": [
    {
     "name": "stdout",
     "output_type": "stream",
     "text": [
      "13621.945200178938\n",
      "13680.896426197942\n",
      "13909.418347160894\n",
      "13911.730132911593\n",
      "13987.330996632716\n",
      "14073.672503052441\n",
      "14148.45186671495\n",
      "14075.069766113478\n",
      "13994.14840282479\n",
      "13922.172343559841\n"
     ]
    }
   ],
   "source": [
    "for i in g1:\n",
    "    print(i)"
   ]
  },
  {
   "cell_type": "code",
   "execution_count": 224,
   "metadata": {},
   "outputs": [
    {
     "data": {
      "text/plain": [
       "'1392217.234356%'"
      ]
     },
     "execution_count": 224,
     "metadata": {},
     "output_type": "execute_result"
    }
   ],
   "source": [
    "f\"{13922.172343559841:%}\""
   ]
  },
  {
   "cell_type": "code",
   "execution_count": 232,
   "metadata": {},
   "outputs": [
    {
     "data": {
      "text/plain": [
       "'1,300.23'"
      ]
     },
     "execution_count": 232,
     "metadata": {},
     "output_type": "execute_result"
    }
   ],
   "source": [
    "cur_total_balance = 1300.234\n",
    "f\"{cur_total_balance:,.2f}\""
   ]
  },
  {
   "cell_type": "code",
   "execution_count": 5,
   "metadata": {},
   "outputs": [],
   "source": [
    "mu, sigma = 0, 0.1 # mean and standard deviation\n",
    "s = np.random.default_rng().normal(mu, sigma, 1000)"
   ]
  },
  {
   "cell_type": "code",
   "execution_count": 8,
   "metadata": {},
   "outputs": [],
   "source": [
    "rng = np.random.default_rng()"
   ]
  },
  {
   "cell_type": "code",
   "execution_count": 42,
   "metadata": {},
   "outputs": [
    {
     "data": {
      "text/plain": [
       "13.633813019143261"
      ]
     },
     "execution_count": 42,
     "metadata": {},
     "output_type": "execute_result"
    }
   ],
   "source": [
    "rng.normal(0, 10, 1)[0]"
   ]
  },
  {
   "cell_type": "code",
   "execution_count": null,
   "metadata": {},
   "outputs": [],
   "source": []
  },
  {
   "cell_type": "code",
   "execution_count": null,
   "metadata": {},
   "outputs": [],
   "source": []
  },
  {
   "cell_type": "code",
   "execution_count": 22,
   "metadata": {},
   "outputs": [],
   "source": [
    "import numpy as np\n",
    "from collections.abc import Iterable"
   ]
  },
  {
   "cell_type": "code",
   "execution_count": 59,
   "metadata": {},
   "outputs": [],
   "source": [
    "class SynthStockPrice:\n",
    "    def __init__(self, n, name=\"a\"):\n",
    "        self.n = n\n",
    "        self.name = name\n",
    "        self.actual_value = None\n",
    "\n",
    "        self.generate_values()\n",
    "\n",
    "    def generate_values(self):\n",
    "        self.actual_value = np.random.randint(200, 1000)\n",
    "        self.new_vals = np.random.default_rng().normal(0, 100, self.n)\n",
    "\n",
    "    def __iter__(self) -> tuple[float, str]:\n",
    "        for new_val in self.new_vals:\n",
    "            self.actual_value += new_val\n",
    "            if self.actual_value < 0:\n",
    "                self.actual_value = 50  # TODO: change hardcode\n",
    "                yield self.name, self.actual_value\n",
    "            else:\n",
    "                yield self.name, self.actual_value"
   ]
  },
  {
   "cell_type": "code",
   "execution_count": 67,
   "metadata": {},
   "outputs": [],
   "source": [
    "class StockPrices:\n",
    "    def __init__(self, *stock_price):\n",
    "        self.stock_price = stock_price\n",
    "\n",
    "    def __iter__(self):\n",
    "        for prices in zip(*self.stock_price):\n",
    "            yield {name: price for name, price in prices}\n",
    "            "
   ]
  },
  {
   "cell_type": "code",
   "execution_count": 68,
   "metadata": {},
   "outputs": [
    {
     "name": "stdout",
     "output_type": "stream",
     "text": [
      "{'a': 867.7242531434019, 'b': 314.72111782894797}\n",
      "{'a': 683.0604863329909, 'b': 248.3669245996421}\n",
      "{'a': 826.0433858219214, 'b': 126.26778047332539}\n",
      "{'a': 832.5173857005382, 'b': 237.64060772514694}\n",
      "{'a': 809.6722416283678, 'b': 241.1390700030167}\n",
      "{'a': 800.9135498408389, 'b': 287.7993448304952}\n",
      "{'a': 659.0669164742453, 'b': 412.50482889511153}\n",
      "{'a': 712.7809784435882, 'b': 243.19988413700793}\n",
      "{'a': 822.7099439539357, 'b': 352.68081676171136}\n",
      "{'a': 692.4437309332634, 'b': 333.47036936719365}\n",
      "{'a': 471.6495447811395, 'b': 357.1233977421153}\n",
      "{'a': 378.40140184757746, 'b': 497.662614002393}\n",
      "{'a': 461.65916747106775, 'b': 436.21567449935014}\n",
      "{'a': 467.06983144887494, 'b': 547.076637164013}\n",
      "{'a': 338.2306348064726, 'b': 570.793070615599}\n"
     ]
    }
   ],
   "source": [
    "s1 = SynthStockPrice(15, \"a\")\n",
    "s2 = SynthStockPrice(15, \"b\")\n",
    "# print(list(iter(s1)))\n",
    "stock_prices = StockPrices(s1, s2)\n",
    "# print(len(list(iter(stock_prices))))\n",
    "for i in stock_prices:\n",
    "    print(i)"
   ]
  },
  {
   "cell_type": "code",
   "execution_count": 41,
   "metadata": {},
   "outputs": [
    {
     "data": {
      "text/plain": [
       "(<__main__.SynthStockPrice at 0x1180bd910>,\n",
       " <__main__.SynthStockPrice at 0x1180c49d0>)"
      ]
     },
     "execution_count": 41,
     "metadata": {},
     "output_type": "execute_result"
    }
   ],
   "source": [
    "stock_prices.stock_price"
   ]
  },
  {
   "cell_type": "code",
   "execution_count": 40,
   "metadata": {},
   "outputs": [
    {
     "name": "stdout",
     "output_type": "stream",
     "text": [
      "(791.5699937641133, 805.8216675919625)\n",
      "(649.069906275985, 833.8938406485862)\n",
      "(433.72823690805376, 803.8648344296923)\n",
      "(385.7144057922383, 641.4749497311193)\n",
      "(413.06302327651696, 670.5995212945724)\n",
      "(478.35150840083014, 546.2154884477172)\n",
      "(572.7426516496256, 463.47107669935394)\n",
      "(716.9196757714016, 521.254553040735)\n",
      "(636.2065420437675, 507.5500061399515)\n",
      "(713.9778695703185, 612.9350836288816)\n",
      "(692.1698904546435, 567.0399346065766)\n",
      "(834.2444198814741, 697.1661270998557)\n",
      "(919.3636971360218, 769.2860207414193)\n",
      "(1036.5493238461768, 718.7639119135331)\n",
      "(1160.7829897628149, 673.4705854336066)\n"
     ]
    }
   ],
   "source": [
    "for i in zip(s1, s2):\n",
    "    print(i)"
   ]
  },
  {
   "cell_type": "code",
   "execution_count": 69,
   "metadata": {},
   "outputs": [],
   "source": [
    "from colorama import Fore"
   ]
  },
  {
   "cell_type": "code",
   "execution_count": 70,
   "metadata": {},
   "outputs": [
    {
     "name": "stdout",
     "output_type": "stream",
     "text": [
      "\u001b[31msome text\n"
     ]
    }
   ],
   "source": [
    "print(Fore.RED + 'some text')"
   ]
  },
  {
   "cell_type": "code",
   "execution_count": 76,
   "metadata": {},
   "outputs": [
    {
     "name": "stdout",
     "output_type": "stream",
     "text": [
      "\u001b[31msome red text \u001b[42mand with a green background some text \u001b[0m hello\n",
      "\u001b[42mand with a green background\n",
      "\u001b[2mand in dim text\n",
      "\u001b[0m\n",
      "back to normal now\n"
     ]
    }
   ],
   "source": [
    "from colorama import Fore, Back, Style\n",
    "print(Fore.RED + 'some red text', Back.GREEN + 'and with a green background', 'some text', Style.RESET_ALL, 'hello')\n",
    "print(Back.GREEN + 'and with a green background')\n",
    "print(Style.DIM + 'and in dim text')\n",
    "print(Style.RESET_ALL)\n",
    "print('back to normal now')"
   ]
  },
  {
   "cell_type": "code",
   "execution_count": 81,
   "metadata": {},
   "outputs": [
    {
     "name": "stdout",
     "output_type": "stream",
     "text": [
      "\u001b[32m3\u001b[0m\n"
     ]
    }
   ],
   "source": [
    "print('\\x1b[32m3\\x1b[0m')"
   ]
  },
  {
   "cell_type": "code",
   "execution_count": 95,
   "metadata": {},
   "outputs": [],
   "source": [
    "import re"
   ]
  },
  {
   "cell_type": "code",
   "execution_count": 94,
   "metadata": {},
   "outputs": [],
   "source": [
    "def escape_ansi(line):\n",
    "    ansi_escape = re.compile(r'(?:\\x1B[@-_]|[\\x80-\\x9F])[0-?]*[ -/]*[@-~]')\n",
    "    return ansi_escape.sub('', line)"
   ]
  },
  {
   "cell_type": "code",
   "execution_count": 96,
   "metadata": {},
   "outputs": [
    {
     "data": {
      "text/plain": [
       "'3'"
      ]
     },
     "execution_count": 96,
     "metadata": {},
     "output_type": "execute_result"
    }
   ],
   "source": [
    "escape_ansi(a)"
   ]
  },
  {
   "cell_type": "code",
   "execution_count": 91,
   "metadata": {},
   "outputs": [],
   "source": [
    "a = '\\x1b[32m3\\x1b[0m' + Style.RESET_ALL"
   ]
  },
  {
   "cell_type": "code",
   "execution_count": 93,
   "metadata": {},
   "outputs": [
    {
     "data": {
      "text/plain": [
       "'\\x1b[0m'"
      ]
     },
     "execution_count": 93,
     "metadata": {},
     "output_type": "execute_result"
    }
   ],
   "source": [
    "Style.RESET_ALL"
   ]
  },
  {
   "cell_type": "code",
   "execution_count": 92,
   "metadata": {},
   "outputs": [
    {
     "name": "stdout",
     "output_type": "stream",
     "text": [
      "\u001b[32m3\u001b[0m\u001b[0m\n"
     ]
    }
   ],
   "source": [
    "print(a)"
   ]
  },
  {
   "cell_type": "code",
   "execution_count": null,
   "metadata": {},
   "outputs": [],
   "source": []
  },
  {
   "cell_type": "code",
   "execution_count": 97,
   "metadata": {},
   "outputs": [],
   "source": [
    "from collections import deque"
   ]
  },
  {
   "cell_type": "code",
   "execution_count": 99,
   "metadata": {},
   "outputs": [],
   "source": [
    "d = deque([1,2,3])"
   ]
  },
  {
   "cell_type": "code",
   "execution_count": 107,
   "metadata": {},
   "outputs": [
    {
     "data": {
      "text/plain": [
       "[True, False, False]"
      ]
     },
     "execution_count": 107,
     "metadata": {},
     "output_type": "execute_result"
    }
   ],
   "source": [
    "[i == 1 for i in d]"
   ]
  },
  {
   "cell_type": "code",
   "execution_count": null,
   "metadata": {},
   "outputs": [],
   "source": []
  },
  {
   "cell_type": "code",
   "execution_count": 115,
   "metadata": {},
   "outputs": [
    {
     "name": "stdout",
     "output_type": "stream",
     "text": [
      "123,123,123\n"
     ]
    }
   ],
   "source": [
    "print(f\"{123123123:,}\")"
   ]
  },
  {
   "cell_type": "code",
   "execution_count": 117,
   "metadata": {},
   "outputs": [],
   "source": [
    "import pandas as pd"
   ]
  },
  {
   "cell_type": "code",
   "execution_count": 124,
   "metadata": {},
   "outputs": [],
   "source": [
    "d = pd.read_csv('data/NFLX.csv', sep=',', usecols=['Close'])"
   ]
  },
  {
   "cell_type": "code",
   "execution_count": 130,
   "metadata": {},
   "outputs": [],
   "source": [
    "listd = np.array(d['Close'])"
   ]
  },
  {
   "cell_type": "code",
   "execution_count": 143,
   "metadata": {},
   "outputs": [],
   "source": [
    "xc = (listd - listd.mean()) / listd.std() * 1000 + 1000"
   ]
  },
  {
   "cell_type": "code",
   "execution_count": 142,
   "metadata": {},
   "outputs": [
    {
     "data": {
      "text/plain": [
       "array([ 794.31281948,  794.39374379,  794.07855609, ..., 2637.26574383,\n",
       "       2695.40520811, 2646.74692694])"
      ]
     },
     "execution_count": 142,
     "metadata": {},
     "output_type": "execute_result"
    }
   ],
   "source": [
    "xc"
   ]
  },
  {
   "cell_type": "code",
   "execution_count": 137,
   "metadata": {},
   "outputs": [
    {
     "data": {
      "text/plain": [
       "1000.0"
      ]
     },
     "execution_count": 137,
     "metadata": {},
     "output_type": "execute_result"
    }
   ],
   "source": [
    "xc.std()"
   ]
  }
 ],
 "metadata": {
  "kernelspec": {
   "display_name": "trading",
   "language": "python",
   "name": "python3"
  },
  "language_info": {
   "codemirror_mode": {
    "name": "ipython",
    "version": 3
   },
   "file_extension": ".py",
   "mimetype": "text/x-python",
   "name": "python",
   "nbconvert_exporter": "python",
   "pygments_lexer": "ipython3",
   "version": "3.11.4"
  },
  "orig_nbformat": 4
 },
 "nbformat": 4,
 "nbformat_minor": 2
}
