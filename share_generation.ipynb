{
 "cells": [
  {
   "cell_type": "code",
   "execution_count": 1,
   "metadata": {},
   "outputs": [],
   "source": [
    "import numpy as np"
   ]
  },
  {
   "cell_type": "code",
   "execution_count": 190,
   "metadata": {},
   "outputs": [],
   "source": []
  },
  {
   "cell_type": "code",
   "execution_count": 191,
   "metadata": {},
   "outputs": [
    {
     "data": {
      "text/plain": [
       "'07/08/2023, 15:44:29'"
      ]
     },
     "execution_count": 191,
     "metadata": {},
     "output_type": "execute_result"
    }
   ],
   "source": []
  },
  {
   "cell_type": "code",
   "execution_count": 211,
   "metadata": {},
   "outputs": [
    {
     "name": "stdout",
     "output_type": "stream",
     "text": [
      "(698.662424167999, '07/08/2023, 15:45:22')\n",
      "(705.4549650254094, '07/08/2023, 15:45:23')\n",
      "(598.415449004655, '07/08/2023, 15:45:24')\n",
      "(597.1453144802653, '07/08/2023, 15:45:25')\n",
      "(717.1279537958568, '07/08/2023, 15:45:26')\n"
     ]
    }
   ],
   "source": [
    "import numpy as np\n",
    "from datetime import datetime\n",
    "from abc import ABC, abstractmethod\n",
    "\n",
    "# from typing import Iterable, Iterator\n",
    "from collections.abc import Iterator, Iterable\n",
    "\n",
    "\n",
    "class SharePrices(Iterable):\n",
    "    def __init__(self, n):\n",
    "        pass\n",
    "\n",
    "    # @abstractmethod\n",
    "    # def get_share_prices():\n",
    "    #     raise NotImplementedError\n",
    "\n",
    "\n",
    "class SynthSharePrices(SharePrices):\n",
    "    def __init__(self, n):\n",
    "        self.n = n\n",
    "        self.init_value = np.random.randint(1, 1000)\n",
    "        self.new_vals = np.random.default_rng().normal(0, 100, self.n)\n",
    "\n",
    "    def __iter__(self) -> tuple[float, str]:\n",
    "        for new_val in self.new_vals:\n",
    "            self.init_value += new_val\n",
    "            yield self.init_value, datetime.now().strftime(\"%d/%m/%Y, %H:%M:%S\")\n",
    "\n",
    "g1 = SynthSharePrices(5)\n",
    "for i in g1:\n",
    "    print(i)\n"
   ]
  },
  {
   "cell_type": "code",
   "execution_count": 145,
   "metadata": {},
   "outputs": [],
   "source": [
    "g1 = SynthSharePrices(10)"
   ]
  },
  {
   "cell_type": "code",
   "execution_count": 146,
   "metadata": {},
   "outputs": [
    {
     "data": {
      "text/plain": [
       "<__main__.SynthSharePrices at 0x10f08c690>"
      ]
     },
     "execution_count": 146,
     "metadata": {},
     "output_type": "execute_result"
    }
   ],
   "source": [
    "g1"
   ]
  },
  {
   "cell_type": "code",
   "execution_count": 133,
   "metadata": {},
   "outputs": [],
   "source": [
    "g1_iter = iter(g1)"
   ]
  },
  {
   "cell_type": "code",
   "execution_count": 134,
   "metadata": {},
   "outputs": [
    {
     "data": {
      "text/plain": [
       "<generator object SynthSharePrices.__next__ at 0x10f108ac0>"
      ]
     },
     "execution_count": 134,
     "metadata": {},
     "output_type": "execute_result"
    }
   ],
   "source": [
    "next(g1_iter)"
   ]
  },
  {
   "cell_type": "code",
   "execution_count": 123,
   "metadata": {},
   "outputs": [
    {
     "name": "stdout",
     "output_type": "stream",
     "text": [
      "13621.945200178938\n",
      "13680.896426197942\n",
      "13909.418347160894\n",
      "13911.730132911593\n",
      "13987.330996632716\n",
      "14073.672503052441\n",
      "14148.45186671495\n",
      "14075.069766113478\n",
      "13994.14840282479\n",
      "13922.172343559841\n"
     ]
    }
   ],
   "source": [
    "for i in g1:\n",
    "    print(i)"
   ]
  },
  {
   "cell_type": "code",
   "execution_count": 5,
   "metadata": {},
   "outputs": [],
   "source": [
    "mu, sigma = 0, 0.1 # mean and standard deviation\n",
    "s = np.random.default_rng().normal(mu, sigma, 1000)"
   ]
  },
  {
   "cell_type": "code",
   "execution_count": 8,
   "metadata": {},
   "outputs": [],
   "source": [
    "rng = np.random.default_rng()"
   ]
  },
  {
   "cell_type": "code",
   "execution_count": 42,
   "metadata": {},
   "outputs": [
    {
     "data": {
      "text/plain": [
       "13.633813019143261"
      ]
     },
     "execution_count": 42,
     "metadata": {},
     "output_type": "execute_result"
    }
   ],
   "source": [
    "rng.normal(0, 10, 1)[0]"
   ]
  },
  {
   "cell_type": "code",
   "execution_count": null,
   "metadata": {},
   "outputs": [],
   "source": []
  }
 ],
 "metadata": {
  "kernelspec": {
   "display_name": "trading",
   "language": "python",
   "name": "python3"
  },
  "language_info": {
   "codemirror_mode": {
    "name": "ipython",
    "version": 3
   },
   "file_extension": ".py",
   "mimetype": "text/x-python",
   "name": "python",
   "nbconvert_exporter": "python",
   "pygments_lexer": "ipython3",
   "version": "3.11.4"
  },
  "orig_nbformat": 4
 },
 "nbformat": 4,
 "nbformat_minor": 2
}
