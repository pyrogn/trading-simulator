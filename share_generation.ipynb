{
 "cells": [
  {
   "cell_type": "code",
   "execution_count": 1,
   "metadata": {},
   "outputs": [],
   "source": [
    "import numpy as np"
   ]
  },
  {
   "cell_type": "code",
   "execution_count": 4,
   "metadata": {},
   "outputs": [
    {
     "data": {
      "text/plain": [
       "array([-5.03398247e+01,  8.55129875e+01,  2.30561552e+01, -1.33871337e+02,\n",
       "        8.39313811e+01,  1.20663808e+01,  1.58541841e+02, -7.38500675e+00,\n",
       "       -1.19198367e+01, -3.67177291e+02,  1.53694744e+02, -7.96929816e+01,\n",
       "       -3.95914340e+01, -1.07423075e+02, -1.52820919e-01, -1.33206731e+02,\n",
       "       -1.82547049e+01,  8.78729169e+00,  2.61217013e+01,  8.61925332e+01,\n",
       "       -8.13753167e+01, -9.52187821e+01,  5.95556218e+01, -5.32578211e+01,\n",
       "       -1.89168259e+01,  6.19903419e+01,  1.25810342e+01,  6.80226381e+01,\n",
       "        7.38169564e+00,  9.06406598e+01,  5.58273573e+00,  4.82943064e+01,\n",
       "       -6.27629304e+01, -2.96774217e+01, -1.08263921e+02, -2.08273256e+02,\n",
       "       -1.40523976e+01,  1.83680532e+00, -2.07667912e+02, -5.26922662e+01,\n",
       "       -9.81683005e+01, -3.40850913e+01,  1.59996317e+02,  1.18475806e+02,\n",
       "       -7.93722096e+01, -7.50020807e+01,  3.77272612e+01,  3.30820609e+01,\n",
       "       -5.29382657e+01, -9.12944177e+01, -8.87021213e+01,  1.77851118e+02,\n",
       "       -3.96541345e+01, -1.27033487e+02, -6.61089799e+01, -2.23789068e+02,\n",
       "       -1.62026261e+02,  1.00817441e+01,  7.77098227e+01, -2.45602668e+01,\n",
       "       -6.47083893e+01,  1.24818929e+02, -6.60656433e+01,  5.75409094e+01,\n",
       "       -2.12938745e+00,  1.21860025e+02, -1.36607359e+02, -6.10069684e+00,\n",
       "        1.37849511e+02, -1.73288586e+01, -3.97270681e+01,  6.99920059e+01,\n",
       "       -1.94869875e+02, -5.26272385e+01, -1.09840240e+02, -3.89137540e+01,\n",
       "        9.86914047e+01,  3.99326555e+01, -7.37856280e+01,  1.51945377e+02,\n",
       "        1.55815479e+01,  4.57531329e+01,  1.18042739e+02, -6.32155011e+01,\n",
       "        1.44400330e+02, -2.05042684e+01, -3.64669944e+01, -1.48440543e+01,\n",
       "        1.49186788e+01, -1.37805462e+02,  6.75690954e+00, -1.48453324e+02,\n",
       "        9.76301407e+00, -5.30345179e+01,  4.74042589e+01,  1.87037724e+02,\n",
       "        3.25435527e+01,  2.14428401e+02,  8.78336412e+01,  2.35760246e+01])"
      ]
     },
     "execution_count": 4,
     "metadata": {},
     "output_type": "execute_result"
    }
   ],
   "source": [
    "np.random.default_rng().normal(0, 100, 100)"
   ]
  },
  {
   "cell_type": "code",
   "execution_count": 6,
   "metadata": {},
   "outputs": [],
   "source": [
    "g1 = (i for i in range(10))\n",
    "g2 = (i for i in range(1,11))"
   ]
  },
  {
   "cell_type": "code",
   "execution_count": 7,
   "metadata": {},
   "outputs": [
    {
     "name": "stdout",
     "output_type": "stream",
     "text": [
      "(0, 1)\n",
      "(1, 2)\n",
      "(2, 3)\n",
      "(3, 4)\n",
      "(4, 5)\n",
      "(5, 6)\n",
      "(6, 7)\n",
      "(7, 8)\n",
      "(8, 9)\n",
      "(9, 10)\n"
     ]
    }
   ],
   "source": [
    "for i in zip(g1, g2):\n",
    "    print(i)"
   ]
  },
  {
   "cell_type": "code",
   "execution_count": 10,
   "metadata": {},
   "outputs": [],
   "source": [
    "def gen2(*gens):\n",
    "    for g in zip(gens):\n",
    "        yield [i for i in g]"
   ]
  },
  {
   "cell_type": "code",
   "execution_count": 11,
   "metadata": {},
   "outputs": [
    {
     "name": "stdout",
     "output_type": "stream",
     "text": [
      "(<generator object <genexpr> at 0x10679db10>,)\n",
      "(<generator object <genexpr> at 0x10679e9b0>,)\n"
     ]
    }
   ],
   "source": [
    "gg = gen2(g1, g2)\n",
    "for i in gg:\n",
    "    print(i)"
   ]
  },
  {
   "cell_type": "code",
   "execution_count": 211,
   "metadata": {},
   "outputs": [
    {
     "name": "stdout",
     "output_type": "stream",
     "text": [
      "(698.662424167999, '07/08/2023, 15:45:22')\n",
      "(705.4549650254094, '07/08/2023, 15:45:23')\n",
      "(598.415449004655, '07/08/2023, 15:45:24')\n",
      "(597.1453144802653, '07/08/2023, 15:45:25')\n",
      "(717.1279537958568, '07/08/2023, 15:45:26')\n"
     ]
    }
   ],
   "source": [
    "import numpy as np\n",
    "from datetime import datetime\n",
    "from abc import ABC, abstractmethod\n",
    "\n",
    "# from typing import Iterable, Iterator\n",
    "from collections.abc import Iterator, Iterable\n",
    "\n",
    "\n",
    "class SharePrices(Iterable):\n",
    "    def __init__(self, n):\n",
    "        pass\n",
    "\n",
    "    # @abstractmethod\n",
    "    # def get_share_prices():\n",
    "    #     raise NotImplementedError\n",
    "\n",
    "\n",
    "class SynthSharePrices(SharePrices):\n",
    "    def __init__(self, n):\n",
    "        self.n = n\n",
    "        self.init_value = np.random.randint(1, 1000)\n",
    "        self.new_vals = np.random.default_rng().normal(0, 100, self.n)\n",
    "\n",
    "    def __iter__(self) -> tuple[float, str]:\n",
    "        for new_val in self.new_vals:\n",
    "            self.init_value += new_val\n",
    "            yield self.init_value, datetime.now().strftime(\"%d/%m/%Y, %H:%M:%S\")\n",
    "\n",
    "g1 = SynthSharePrices(5)\n",
    "for i in g1:\n",
    "    print(i)\n"
   ]
  },
  {
   "cell_type": "code",
   "execution_count": 145,
   "metadata": {},
   "outputs": [],
   "source": [
    "g1 = SynthSharePrices(10)"
   ]
  },
  {
   "cell_type": "code",
   "execution_count": 146,
   "metadata": {},
   "outputs": [
    {
     "data": {
      "text/plain": [
       "<__main__.SynthSharePrices at 0x10f08c690>"
      ]
     },
     "execution_count": 146,
     "metadata": {},
     "output_type": "execute_result"
    }
   ],
   "source": [
    "g1"
   ]
  },
  {
   "cell_type": "code",
   "execution_count": 133,
   "metadata": {},
   "outputs": [],
   "source": [
    "g1_iter = iter(g1)"
   ]
  },
  {
   "cell_type": "code",
   "execution_count": 134,
   "metadata": {},
   "outputs": [
    {
     "data": {
      "text/plain": [
       "<generator object SynthSharePrices.__next__ at 0x10f108ac0>"
      ]
     },
     "execution_count": 134,
     "metadata": {},
     "output_type": "execute_result"
    }
   ],
   "source": [
    "next(g1_iter)"
   ]
  },
  {
   "cell_type": "code",
   "execution_count": 123,
   "metadata": {},
   "outputs": [
    {
     "name": "stdout",
     "output_type": "stream",
     "text": [
      "13621.945200178938\n",
      "13680.896426197942\n",
      "13909.418347160894\n",
      "13911.730132911593\n",
      "13987.330996632716\n",
      "14073.672503052441\n",
      "14148.45186671495\n",
      "14075.069766113478\n",
      "13994.14840282479\n",
      "13922.172343559841\n"
     ]
    }
   ],
   "source": [
    "for i in g1:\n",
    "    print(i)"
   ]
  },
  {
   "cell_type": "code",
   "execution_count": 224,
   "metadata": {},
   "outputs": [
    {
     "data": {
      "text/plain": [
       "'1392217.234356%'"
      ]
     },
     "execution_count": 224,
     "metadata": {},
     "output_type": "execute_result"
    }
   ],
   "source": [
    "f\"{13922.172343559841:%}\""
   ]
  },
  {
   "cell_type": "code",
   "execution_count": 232,
   "metadata": {},
   "outputs": [
    {
     "data": {
      "text/plain": [
       "'1,300.23'"
      ]
     },
     "execution_count": 232,
     "metadata": {},
     "output_type": "execute_result"
    }
   ],
   "source": [
    "cur_total_balance = 1300.234\n",
    "f\"{cur_total_balance:,.2f}\""
   ]
  },
  {
   "cell_type": "code",
   "execution_count": 5,
   "metadata": {},
   "outputs": [],
   "source": [
    "mu, sigma = 0, 0.1 # mean and standard deviation\n",
    "s = np.random.default_rng().normal(mu, sigma, 1000)"
   ]
  },
  {
   "cell_type": "code",
   "execution_count": 8,
   "metadata": {},
   "outputs": [],
   "source": [
    "rng = np.random.default_rng()"
   ]
  },
  {
   "cell_type": "code",
   "execution_count": 42,
   "metadata": {},
   "outputs": [
    {
     "data": {
      "text/plain": [
       "13.633813019143261"
      ]
     },
     "execution_count": 42,
     "metadata": {},
     "output_type": "execute_result"
    }
   ],
   "source": [
    "rng.normal(0, 10, 1)[0]"
   ]
  },
  {
   "cell_type": "code",
   "execution_count": null,
   "metadata": {},
   "outputs": [],
   "source": []
  }
 ],
 "metadata": {
  "kernelspec": {
   "display_name": "trading",
   "language": "python",
   "name": "python3"
  },
  "language_info": {
   "codemirror_mode": {
    "name": "ipython",
    "version": 3
   },
   "file_extension": ".py",
   "mimetype": "text/x-python",
   "name": "python",
   "nbconvert_exporter": "python",
   "pygments_lexer": "ipython3",
   "version": "3.11.4"
  },
  "orig_nbformat": 4
 },
 "nbformat": 4,
 "nbformat_minor": 2
}
